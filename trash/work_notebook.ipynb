{
 "cells": [
  {
   "cell_type": "code",
   "execution_count": 11,
   "metadata": {},
   "outputs": [
    {
     "name": "stdout",
     "output_type": "stream",
     "text": [
      "['2000', '2001', '2002', '2003']\n"
     ]
    }
   ],
   "source": [
    "from collections import OrderedDict\n",
    "temps = [('2000', -4.4), ('2001', -2.5), ('2002', -4.4), ('2003', -9.5)]\n",
    "def check(temps):\n",
    "    ordered_dict_temps = OrderedDict(temps)\n",
    "    print(sorted(ordered_dict_temps, key = lambda x: x[1], reverse = True))\n",
    "check(temps)"
   ]
  },
  {
   "cell_type": "code",
   "execution_count": 32,
   "metadata": {},
   "outputs": [
    {
     "name": "stdout",
     "output_type": "stream",
     "text": [
      "deque(['('])\n",
      "deque(['(', '('])\n",
      "deque(['('])\n",
      "deque(['(', '('])\n",
      "deque(['('])\n",
      "deque([])\n",
      "True\n"
     ]
    }
   ],
   "source": [
    "# Напишите функцию brackets(line), которая определяет, является ли последовательность из круглых скобок line правильной.\n",
    "\n",
    "# Примечание 1. Какая последовательность скобок правильная?\n",
    "\n",
    "# Правильной скобочной последовательностью назовём такую последовательность скобок, \n",
    "# в которой для каждой открывающей скобки есть последующая соответствующая ей закрывающая скобка. \n",
    "# Соответственно, остальные скобочные последовательности назовём неправильными. Пустую строку будем считать правильной последовательностью.\n",
    "\n",
    "# Примечание 2.Для решения этой задачи потребуется использовать стек.\n",
    "\n",
    "# Посимвольно переберите строку. Если встретилась открывающаяся скобка, положите её в стек. Если встретилась закрывающаяся скобка, извлеките скобку из стека.\n",
    "\n",
    "# Если стек пустой, то есть извлечь скобку нельзя, последовательность неправильная.\n",
    "# Если строка закончилась и стек стал пустым, последовательность правильная.\n",
    "# Если в стеке остались скобки, последовательность неправильная.\n",
    "# Пример\n",
    "\n",
    "\n",
    "# print(brackets(\"(()())\"))\n",
    "# # True\n",
    "# print(brackets(\"\"))\n",
    "# # True\n",
    "# print(brackets(\"(()()))\"))\n",
    "# # False\n",
    "from collections import deque\n",
    "def brackets(line):\n",
    "    deque_count = deque()\n",
    "    for symbol in line:\n",
    "        if symbol == '(':\n",
    "            deque_count.append(symbol)\n",
    "            print(deque_count)\n",
    "        elif symbol == ')':\n",
    "            if not deque_count:\n",
    "                return False\n",
    "            deque_count.pop()\n",
    "            print(deque_count)\n",
    "    if len(deque_count) == 0:\n",
    "        return True\n",
    "    else:\n",
    "        return False\n",
    "    \n",
    "\n",
    "print(brackets(\"(()())\"))"
   ]
  },
  {
   "cell_type": "code",
   "execution_count": 13,
   "metadata": {},
   "outputs": [
    {
     "name": "stdout",
     "output_type": "stream",
     "text": [
      "{'WokAndRice': 4.9, 'WokToWork': 4.9, 'General Foods': 4.8, 'New Age': 4.6, 'Belissimo': 4.5, 'CakeAndCoffee': 4.2, 'CakeOClock': 4.2, 'CakeTime': 4.1, 'Nice Cakes': 3.9, 'Old Gold': 3.3, 'Old Wine Cellar': 3.3, 'Old York': 3.3}\n"
     ]
    }
   ],
   "source": [
    "# Дан список кортежей ratings с рейтингами кафе. Кортеж состоит из названия и рейтинга кафе.\n",
    "\n",
    "# Необходимо отсортировать кортеж по убыванию рейтинга. Если рейтинги совпадают, то отсортировать кафе дополнительно по названию в алфавитном порядке.\n",
    "\n",
    "# Получите словарь cafes с упорядоченными ключами из отсортированного списка, где ключи — названия кафе, а значения — их рейтинг.\n",
    "\n",
    "ratings = [('Old York', 3.3), ('New Age', 4.6), ('Old Gold', 3.3), ('General Foods', 4.8),\n",
    "           ('Belissimo', 4.5), ('CakeAndCoffee', 4.2), ('CakeOClock', 4.2), ('CakeTime', 4.1),\n",
    "           ('WokToWork', 4.9), ('WokAndRice', 4.9), ('Old Wine Cellar', 3.3), ('Nice Cakes', 3.9)]\n",
    "    \n",
    "cafes = dict(sorted(ratings, key=lambda x: (-x[1], x[0])))\n",
    "print(cafes)"
   ]
  },
  {
   "cell_type": "code",
   "execution_count": 18,
   "metadata": {},
   "outputs": [
    {
     "name": "stdout",
     "output_type": "stream",
     "text": [
      "OrderedDict([('WokAndRice', 4.9), ('WokToWork', 4.9), ('General Foods', 4.8), ('New Age', 4.6), ('Belissimo', 4.5), ('CakeAndCoffee', 4.2), ('CakeOClock', 4.2), ('CakeTime', 4.1), ('Nice Cakes', 3.9), ('Old Gold', 3.3), ('Old Wine Cellar', 3.3), ('Old York', 3.3)])\n"
     ]
    }
   ],
   "source": [
    "from collections import OrderedDict\n",
    "ratings = [('Old York', 3.3), ('New Age', 4.6), ('Old Gold', 3.3), ('General Foods', 4.8),\n",
    "           ('Belissimo', 4.5), ('CakeAndCoffee', 4.2), ('CakeOClock', 4.2), ('CakeTime', 4.1),\n",
    "           ('WokToWork', 4.9), ('WokAndRice', 4.9), ('Old Wine Cellar', 3.3), ('Nice Cakes', 3.9)]\n",
    "cafes = OrderedDict(sorted(ratings, key=lambda x: (-x[1], x[0])))  \n",
    "\n",
    "print(cafes)"
   ]
  },
  {
   "cell_type": "code",
   "execution_count": 23,
   "metadata": {},
   "outputs": [
    {
     "name": "stdout",
     "output_type": "stream",
     "text": [
      "defaultdict(<class 'collections.deque'>, {'office': deque([36871, 40690, 33850]), 'voltage': deque([41667, 35364])})\n"
     ]
    }
   ],
   "source": [
    "# Напишите функцию task_manager(tasks), которая принимает список задач tasks для нескольких серверов. \n",
    "# Каждый элемент списка состоит из кортежа (<номер задачи>, <название сервера>, <высокий приоритет задачи>).\n",
    "\n",
    "# Функция должна создавать словарь и заполнять его задачами по следующему принципу: название сервера — ключ, \n",
    "# по которому хранится очередь задач для конкретного сервера.\n",
    "\n",
    "# Если поступает задача без высокого приоритета (последний элемент кортежа — False), \n",
    "# добавить номер задачи в конец очереди. Если приоритет высокий, добавить номер в начало.\n",
    "\n",
    "# Для словаря используйте defaultdict, для очереди — deque.\n",
    "\n",
    "# Функция возвращает полученный словарь с задачами.\n",
    "\n",
    "# Пример\n",
    "\n",
    "\n",
    "tasks = [(36871, 'office', False),\n",
    "(40690, 'office', False),\n",
    "(35364, 'voltage', False),\n",
    "(41667, 'voltage', True),\n",
    "(33850, 'office', False)]\n",
    "\n",
    "# print(task_manager(tasks))\n",
    "# defaultdict(, {'voltage': deque([41667, 35364]),\n",
    "# 'office': deque([36871, 40690, 33850])})\n",
    "\n",
    "from collections import defaultdict\n",
    "from collections import deque\n",
    "\n",
    "def task_manager(tasks):\n",
    "    common_dict = defaultdict(deque)\n",
    "    for number, server_name, priorety in tasks:\n",
    "        if priorety:\n",
    "            common_dict[server_name].appendleft(number)\n",
    "        else:\n",
    "            common_dict[server_name].append(number)\n",
    "    return common_dict\n"
   ]
  },
  {
   "cell_type": "code",
   "execution_count": 6,
   "metadata": {},
   "outputs": [
    {
     "data": {
      "text/plain": [
       "iinfo(min=0, max=18446744073709551615, dtype=uint64)"
      ]
     },
     "execution_count": 6,
     "metadata": {},
     "output_type": "execute_result"
    }
   ],
   "source": [
    "import numpy as np\n",
    "np.iinfo(np.uint64)"
   ]
  },
  {
   "cell_type": "code",
   "execution_count": 7,
   "metadata": {},
   "outputs": [
    {
     "name": "stdout",
     "output_type": "stream",
     "text": [
      "36893488147419103230\n"
     ]
    }
   ],
   "source": [
    "a = 2*18446744073709551615\n",
    "print(a)"
   ]
  },
  {
   "cell_type": "code",
   "execution_count": 21,
   "metadata": {},
   "outputs": [
    {
     "name": "stdout",
     "output_type": "stream",
     "text": [
      "56\n"
     ]
    },
    {
     "name": "stderr",
     "output_type": "stream",
     "text": [
      "/var/folders/mj/6p8qfrq97ts_vlb1kk914kjc0000gn/T/ipykernel_92781/1891576283.py:2: DeprecationWarning: NumPy will stop allowing conversion of out-of-bound Python integers to integer arrays.  The conversion of -456 to uint8 will fail in the future.\n",
      "For the old behavior, usually:\n",
      "    np.array(value).astype(dtype)\n",
      "will give the desired result (the cast overflows).\n",
      "  b = np.uint8(a)\n"
     ]
    }
   ],
   "source": [
    "a = -456\n",
    "b = np.uint8(a)\n",
    "print(b)"
   ]
  },
  {
   "cell_type": "code",
   "execution_count": 1,
   "metadata": {},
   "outputs": [
    {
     "name": "stdout",
     "output_type": "stream",
     "text": [
      "1\n",
      "3\n",
      "4\n"
     ]
    }
   ],
   "source": [
    "i=0\n",
    "while True:\n",
    "    i+=1\n",
    "    if i == 2:\n",
    "        continue\n",
    "    if i == 5:\n",
    "        break\n",
    "    \n",
    "    print(i)"
   ]
  },
  {
   "cell_type": "code",
   "execution_count": 18,
   "metadata": {},
   "outputs": [
    {
     "name": "stdout",
     "output_type": "stream",
     "text": [
      "0.45\n"
     ]
    }
   ],
   "source": [
    "import numpy as np\n",
    "arr, step = np.linspace(-6, 21, 60, endpoint=False, retstep=True)\n",
    "print(round(step, 2))"
   ]
  },
  {
   "cell_type": "code",
   "execution_count": 26,
   "metadata": {},
   "outputs": [
    {
     "name": "stdout",
     "output_type": "stream",
     "text": [
      "[[-13586  25936  13348  13240 -21725 -16841]\n",
      " [ 15203 -30968  28049   7994  -8681 -25392]\n",
      " [ 28445  -1297  28655  32592  30305 -17278]\n",
      " [-27117  -4593  -6012  20149  22260  11740]\n",
      " [ -1781   6451  21762  13754 -17918   5916]\n",
      " [-17182  15790  25397  11795  12578    -47]\n",
      " [-18049   7181   8225   -564  29943 -32037]]\n"
     ]
    }
   ],
   "source": [
    "mystery = np.array([[-13586,  15203,  28445, -27117,  -1781, -17182, -18049],\n",
    "                    [ 25936, -30968,  -1297,  -4593,   6451,  15790,   7181],\n",
    "                    [ 13348,  28049,  28655,  -6012,  21762,  25397,   8225],\n",
    "                    [ 13240,   7994,  32592,  20149,  13754,  11795,   -564],\n",
    "                    [-21725,  -8681,  30305,  22260, -17918,  12578,  29943],\n",
    "                    [-16841, -25392, -17278,  11740,   5916,    -47, -32037]],\n",
    "      dtype=np.int16)\n",
    "\n",
    "\n",
    "elem_5_3 = mystery[4, 2]\n",
    "last = mystery[-1,-1]\n",
    "line_4 = mystery[3]\n",
    "col_2 = mystery[:, -2]\n",
    "part = mystery[1:4, 2:5]\n",
    "rev = (mystery[:, -1])[::-1]\n",
    "trans = mystery.transpose()\n",
    "\n",
    "print(trans)"
   ]
  },
  {
   "cell_type": "code",
   "execution_count": 2,
   "metadata": {},
   "outputs": [
    {
     "name": "stdout",
     "output_type": "stream",
     "text": [
      "[[-26024.  -2365.  29810.]\n",
      " [-17722.  12279.  31244.]\n",
      " [-16431.  16132.     nan]\n",
      " [ -9212.  25933.     nan]\n",
      " [ -6974.  28745.     nan]]\n",
      "[-2365. 12279. 16132. 25933. 28745.]\n"
     ]
    },
    {
     "name": "stderr",
     "output_type": "stream",
     "text": [
      "/var/folders/mj/6p8qfrq97ts_vlb1kk914kjc0000gn/T/ipykernel_1848/4109252169.py:13: RuntimeWarning: invalid value encountered in cast\n",
      "  mystery_int = mystery.astype(np.int32)\n"
     ]
    }
   ],
   "source": [
    "import numpy as np\n",
    "mystery = np.array([ 12279., -26024.,  28745.,  np.nan,  31244.,  -2365.,  -6974.,\n",
    "        -9212., np.nan, -17722.,  16132.,  25933.,  np.nan, -16431.,\n",
    "        29810.], dtype=np.float32)\n",
    "\n",
    "nans_index = np.isnan(mystery)\n",
    "# print(nans_index)\n",
    "n_nan = list(nans_index).count(True)\n",
    "# print(n_nan)\n",
    "mystery_new = mystery.copy()\n",
    "mystery_new[np.isnan(mystery_new)] = 0\n",
    "# print(mystery_new)\n",
    "mystery_int = mystery.astype(np.int32)\n",
    "# print(mystery_int)\n",
    "# print(mystery)\n",
    "array = np.sort(mystery)\n",
    "# print(array)\n",
    "table = array.reshape((5, 3), order='F')\n",
    "print(table)\n",
    "col = table[:,1]\n",
    "print(col)\n"
   ]
  },
  {
   "cell_type": "code",
   "execution_count": 4,
   "metadata": {},
   "outputs": [
    {
     "data": {
      "text/plain": [
       "array([[[[[[0.08350894, 0.92723623]],\n",
       "\n",
       "          [[0.47292693, 0.16186133]]],\n",
       "\n",
       "\n",
       "         [[[0.12187943, 0.18873952]],\n",
       "\n",
       "          [[0.03662364, 0.0600803 ]]],\n",
       "\n",
       "\n",
       "         [[[0.53374364, 0.36398396]],\n",
       "\n",
       "          [[0.08577924, 0.12018411]]],\n",
       "\n",
       "\n",
       "         [[[0.62318787, 0.5957223 ]],\n",
       "\n",
       "          [[0.74303621, 0.52068648]]]],\n",
       "\n",
       "\n",
       "\n",
       "        [[[[0.64370833, 0.56862714]],\n",
       "\n",
       "          [[0.26889178, 0.1640672 ]]],\n",
       "\n",
       "\n",
       "         [[[0.7648853 , 0.39343206]],\n",
       "\n",
       "          [[0.73592533, 0.7571759 ]]],\n",
       "\n",
       "\n",
       "         [[[0.44085112, 0.95167922]],\n",
       "\n",
       "          [[0.92168176, 0.86331502]]],\n",
       "\n",
       "\n",
       "         [[[0.61992879, 0.53454097]],\n",
       "\n",
       "          [[0.28332103, 0.61018418]]]],\n",
       "\n",
       "\n",
       "\n",
       "        [[[[0.80258906, 0.82015134]],\n",
       "\n",
       "          [[0.82081001, 0.8734404 ]]],\n",
       "\n",
       "\n",
       "         [[[0.24744434, 0.89942496]],\n",
       "\n",
       "          [[0.73339455, 0.75232948]]],\n",
       "\n",
       "\n",
       "         [[[0.44757524, 0.56633936]],\n",
       "\n",
       "          [[0.16157717, 0.7300612 ]]],\n",
       "\n",
       "\n",
       "         [[[0.83229181, 0.68466823]],\n",
       "\n",
       "          [[0.01406286, 0.03469354]]]]],\n",
       "\n",
       "\n",
       "\n",
       "\n",
       "       [[[[[0.49114767, 0.86084228]],\n",
       "\n",
       "          [[0.90388219, 0.84767924]]],\n",
       "\n",
       "\n",
       "         [[[0.86374276, 0.02257707]],\n",
       "\n",
       "          [[0.86429182, 0.44291739]]],\n",
       "\n",
       "\n",
       "         [[[0.61475927, 0.2927856 ]],\n",
       "\n",
       "          [[0.83345115, 0.35738903]]],\n",
       "\n",
       "\n",
       "         [[[0.18095867, 0.66902049]],\n",
       "\n",
       "          [[0.52008754, 0.43938876]]]],\n",
       "\n",
       "\n",
       "\n",
       "        [[[[0.27822896, 0.5161077 ]],\n",
       "\n",
       "          [[0.35333121, 0.6304415 ]]],\n",
       "\n",
       "\n",
       "         [[[0.15188099, 0.03658136]],\n",
       "\n",
       "          [[0.02568115, 0.47841657]]],\n",
       "\n",
       "\n",
       "         [[[0.82173867, 0.11028886]],\n",
       "\n",
       "          [[0.46704696, 0.08092538]]],\n",
       "\n",
       "\n",
       "         [[[0.68836811, 0.32645809]],\n",
       "\n",
       "          [[0.77582047, 0.59651261]]]],\n",
       "\n",
       "\n",
       "\n",
       "        [[[[0.95551577, 0.20157438]],\n",
       "\n",
       "          [[0.02483691, 0.46449435]]],\n",
       "\n",
       "\n",
       "         [[[0.19749567, 0.87666927]],\n",
       "\n",
       "          [[0.80268402, 0.25202527]]],\n",
       "\n",
       "\n",
       "         [[[0.19354947, 0.47313785]],\n",
       "\n",
       "          [[0.4726017 , 0.7870185 ]]],\n",
       "\n",
       "\n",
       "         [[[0.55285726, 0.79149516]],\n",
       "\n",
       "          [[0.68736158, 0.90319112]]]]]])"
      ]
     },
     "execution_count": 4,
     "metadata": {},
     "output_type": "execute_result"
    }
   ],
   "source": [
    "np.random.rand(2, 3, 4, 2, 1, 2)"
   ]
  },
  {
   "cell_type": "code",
   "execution_count": 5,
   "metadata": {},
   "outputs": [
    {
     "name": "stdout",
     "output_type": "stream",
     "text": [
      "[8 8 3]\n",
      "[7 7 0]\n",
      "[4 2 5]\n"
     ]
    }
   ],
   "source": [
    "np.random.seed(100)\n",
    "print(np.random.randint(10, size=3))\n",
    "# [8 8 3]\n",
    "print(np.random.randint(10, size=3))\n",
    "# [7 7 0]\n",
    "print(np.random.randint(10, size=3))\n",
    "# [4 2 5]"
   ]
  },
  {
   "cell_type": "code",
   "execution_count": 17,
   "metadata": {},
   "outputs": [],
   "source": [
    "# адайте seed = 2021.\n",
    "\n",
    "# Сохраните в переменные необходимые значения.\n",
    "\n",
    "# Примечание 1. Не меняйте названия переменных и последовательность генерации случайных чисел в задании.\n",
    "\n",
    "# Примечание 2. Не забудьте импортировать numpy и сразу задать seed = 2021\n",
    "\n",
    "# В simple сохраните случайное число в диапазоне от 0 до 1\n",
    "# Сгенерируйте 120 чисел в диапазоне от -150 до 2021, сохраните их в переменную randoms\n",
    "# Получите массив из случайных целых чисел от 1 до 100 (включительно) из 3 строк и 2 столбцов. Сохраните результат в table\n",
    "# В переменную even сохраните четные числа от 2 до 16 (включительно)\n",
    "# Скопируйте even в переменную mix. Перемешайте числа в mix так, чтобы массив изменился\n",
    "# Получите из even 3 числа без повторений. Сохраните их в переменную select\n",
    "# Получите переменную triplet, которая должна содержать перемешанные значения из массива select (сам select измениться не должен)\n",
    "\n",
    "import numpy as np\n",
    "np.random.seed(2021)\n",
    "simple = np.random.rand()\n",
    "# print(simple)\n",
    "randoms = np.random.uniform(-150, 2021, size = 120)\n",
    "table = np.random.randint(1, 101, size = (3, 2))\n",
    "# print(table)\n",
    "even = np.arange(2, 17, 2)\n",
    "# print(even)\n",
    "mix = even.copy()\n",
    "np.random.shuffle(mix)\n",
    "# print(mix, even)\n",
    "select = np.random.choice(even, size = 3, replace = False)\n",
    "# print(select)\n",
    "triplet = np.random.permutation(select)\n"
   ]
  },
  {
   "cell_type": "code",
   "execution_count": 60,
   "metadata": {},
   "outputs": [
    {
     "data": {
      "text/plain": [
       "array([[0., 1., 0., 1., 0.],\n",
       "       [1., 0., 1., 0., 1.],\n",
       "       [0., 1., 0., 1., 0.],\n",
       "       [1., 0., 1., 0., 1.],\n",
       "       [0., 1., 0., 1., 0.]])"
      ]
     },
     "execution_count": 60,
     "metadata": {},
     "output_type": "execute_result"
    }
   ],
   "source": [
    "# Напишите функцию get_chess, которая принимает на вход длину стороны квадрата a и возвращает двумерный массив формы (a, a), \n",
    "# заполненный 0 и 1 в шахматном порядке. В левом верхнем углу всегда должен быть ноль.\n",
    "\n",
    "# Примечание: воспользуйтесь функцией zeros из библиотеки numpy, а затем с помощью срезов без циклов задайте необходимым элементам значение 1.\n",
    "\n",
    "# Напоминание: в Python для получения каждого второго элемента используется срез [::2]. Подумайте, как грамотно применить этот принцип к двумерному массиву.\n",
    "\n",
    "# Пример:\n",
    "\n",
    "# get_chess(1)\n",
    "# # array([[0.]])\n",
    "# get_chess(4)\n",
    "# # array([[0., 1., 0., 1.],\n",
    "# #        [1., 0., 1., 0.],\n",
    "# #        [0., 1., 0., 1.],\n",
    "# #        [1., 0., 1., 0.]])\n",
    "\n",
    "def get_chess(a):\n",
    "    a_sqr = np.zeros((a, a))\n",
    "    a_sqr[::2, 1::2] = 1\n",
    "    a_sqr[1::2, ::2] = 1\n",
    "    return a_sqr\n",
    "    \n",
    "get_chess(5)\n",
    "    "
   ]
  },
  {
   "cell_type": "code",
   "execution_count": 72,
   "metadata": {},
   "outputs": [
    {
     "data": {
      "text/plain": [
       "(array([5, 4, 3, 2, 1]), 3100716767)"
      ]
     },
     "execution_count": 72,
     "metadata": {},
     "output_type": "execute_result"
    }
   ],
   "source": [
    "# Вы разрабатываете приложение для прослушивания музыки. \n",
    "# Конечно же, там будет доступна функция перемешивания плейлиста. \n",
    "# Пользователю может настолько понравиться перемешанная версия плейлиста, \n",
    "# что он захочет сохранить его копию. Однако вы не хотите хранить в памяти новую версию плейлиста, \n",
    "# а просто хотите сохранять тот seed, с которым он был сгенерирован.\n",
    "\n",
    "# Для этого напишите функцию shuffle_seed(<array>),  \n",
    "# которая принимает на вход массив из чисел, \n",
    "# генерирует случайное число для seed в диапазоне от 0 до 2**32 - 1 (включительно) \n",
    "# и возвращает кортеж: перемешанный с данным seed массив \n",
    "# (исходный массив должен оставаться без изменений), \n",
    "# а также seed, с которым этот массив был получен.\n",
    "\n",
    "# Пример:\n",
    "\n",
    "# array = [1, 2, 3, 4, 5]\n",
    "# shuffle_seed(array)\n",
    "# # (array([1, 3, 2, 4, 5]), 2332342819)\n",
    "# shuffle_seed(array)\n",
    "# # (array([4, 5, 2, 3, 1]), 4155165971)\n",
    "\n",
    "import numpy as np\n",
    "def shuffle_seed(a):\n",
    "    func_seed = np.random.randint(0, 2**32 - 1)\n",
    "    np.random.seed(func_seed)\n",
    "    return((np.random.permutation(a), func_seed ))\n",
    "\n",
    "array = [1, 2, 3, 4, 5]\n",
    "shuffle_seed(array)"
   ]
  },
  {
   "cell_type": "code",
   "execution_count": null,
   "metadata": {},
   "outputs": [],
   "source": [
    "# Напишите функцию min_max_dist, которая принимает на вход неограниченное число векторов через запятую. \n",
    "# Гарантируется, что все векторы, которые передаются, одинаковой длины.\n",
    "\n",
    "# Функция возвращает минимальное и максимальное расстояние между векторами в виде кортежа.\n",
    "\n",
    "# Пример:\n",
    "\n",
    "# vec1 = np.array([1,2,3])\n",
    "# vec2 = np.array([4,5,6])\n",
    "# vec3 = np.array([7, 8, 9])\n",
    " \n",
    "# min_max_dist(vec1, vec2, vec3)\n",
    "# # (5.196152422706632, 10.392304845413264)\n",
    "\n",
    "import numpy as np\n",
    "\n",
    "def min_max_dist(*vectors):\n",
    "    vectors = np.array(vectors)\n",
    "    dist = []\n",
    "    for i in range(len(vectors)):\n",
    "        for j in range(i + 1, len(vectors)):\n",
    "            dist.append(np.linalg.norm(vectors[i] - vectors[j]))\n",
    "\n",
    "            \n",
    "    return (min(dist), max(dist))\n",
    "\n",
    "            \n",
    "    "
   ]
  },
  {
   "cell_type": "code",
   "execution_count": null,
   "metadata": {},
   "outputs": [],
   "source": [
    "# Напишите функцию any_normal, которая принимает на вход неограниченное число векторов через запятую. \n",
    "# Гарантируется, что все векторы, которые передаются, одинаковой длины.\n",
    "\n",
    "# Функция возвращает True, если есть хотя бы одна пара перпендикулярных векторов. Иначе возвращает False.\n",
    "\n",
    "# Пример:\n",
    "\n",
    "# vec1 = np.array([2, 1])\n",
    "# vec2 = np.array([-1, 2])\n",
    "# vec3 = np.array([3,4])\n",
    "# print(any_normal(vec1, vec2, vec3))\n",
    "# # True\n",
    "\n",
    "def any_normal(*vectors):\n",
    "    vectors = np.array(vectors)\n",
    "    for i in range(len(vectors)):\n",
    "        for j in range(i + 1, len(vectors)):\n",
    "            scalar = np.dot(vectors[i], vectors[j])\n",
    "            if scalar == 0:\n",
    "                return True\n",
    "    return False"
   ]
  },
  {
   "cell_type": "code",
   "execution_count": null,
   "metadata": {},
   "outputs": [],
   "source": [
    "# Напишите функцию get_loto(num), генерирующую трёхмерный массив случайных целых чисел от 1 до 100 (включительно). \n",
    "# Это поля для игры в лото.\n",
    "\n",
    "# Трёхмерный массив должен состоять из таблиц чисел формы 5х5, то есть итоговая форма — (num, 5, 5).\n",
    "\n",
    "# Функция возвращает полученный массив.\n",
    "\n",
    "# Пример:\n",
    "\n",
    "# get_loto(3)\n",
    "# Результат:\n",
    "\n",
    "# array([[[ 35,  66,  38,  11,  32],\n",
    "#        [ 32,   7,  37,  83,  42],\n",
    "#        [ 89,  37,  19,  51,  89],\n",
    "#        [ 70, 100,  83,   5,  11],\n",
    "#        [ 20,  13,  60,  26,  41]],\n",
    " \n",
    "#       [[ 23,  49,  76,  44,  43],\n",
    "#        [ 59,  63,  99,  92,   2],\n",
    "#        [ 83,   4,  25,  73,  19],\n",
    "#        [ 10,  18,  40,  11,  21],\n",
    "#        [ 58,  45,  73,  93,  61]],\n",
    " \n",
    "#       [[100,  88,  70,  34,  51],\n",
    "#        [  5,  35,  36,  85,  88],\n",
    "#        [ 72,  23,  87,  30,  40],\n",
    "#        [ 29,  21,  51,  73,  81],\n",
    "#        [ 91,  19,  87,  60,  27]]])\n",
    "\n",
    "import numpy as np\n",
    "\n",
    "def get_loto(num):\n",
    "    return np.random.randint(1, 101, (num, 5, 5), replace = 'F')\n",
    "    "
   ]
  },
  {
   "cell_type": "code",
   "execution_count": 84,
   "metadata": {},
   "outputs": [
    {
     "data": {
      "text/plain": [
       "array([[[ 73,  52,  75,  22,  76],\n",
       "        [ 88,  43,  25,  51,  56],\n",
       "        [ 23,  85,  34,  40,  38],\n",
       "        [ 87,  16,  21,  58,  80],\n",
       "        [ 42,  46,  32,  27,  93]],\n",
       "\n",
       "       [[ 34,  53,  51,  70, 100],\n",
       "        [ 21,  27,  94,  28,  68],\n",
       "        [ 22,   5,  59,  89,  79],\n",
       "        [  8,  17,  41,   9,  24],\n",
       "        [ 58,  38,  71,  56,  44]],\n",
       "\n",
       "       [[ 21,  23,   9,  11,  41],\n",
       "        [ 35,   1,  58,  65,  18],\n",
       "        [ 45,  52,  75,  39,  87],\n",
       "        [ 99,   5,  42,  40,  16],\n",
       "        [ 27,  59,  97,  28,  77]],\n",
       "\n",
       "       [[ 96,  92,  52,  61,  64],\n",
       "        [100,  94,  53,  65,  44],\n",
       "        [ 88,   2,   6,  30,  69],\n",
       "        [ 21,  73,  41,   4,  95],\n",
       "        [ 79,  58,  23,  48,  18]],\n",
       "\n",
       "       [[ 33,  55,  51,   6,  74],\n",
       "        [ 83,   8,  11,  28,   5],\n",
       "        [ 15,  76,  70,  49,  68],\n",
       "        [ 81,  32,  44,  47,  99],\n",
       "        [ 17,  64,  37,  72,  19]],\n",
       "\n",
       "       [[ 96,  12,  82,  59,  93],\n",
       "        [ 72,  37,  64,  95,  43],\n",
       "        [ 98,  62,  88,  71,  58],\n",
       "        [ 70,  60,  77,   6,  76],\n",
       "        [ 34,  49,  85,  38,   1]],\n",
       "\n",
       "       [[ 88,   1,   8,  41,  79],\n",
       "        [ 62,  95,  33,  94,  67],\n",
       "        [100,  38,  12,  85,  60],\n",
       "        [  4,  58,  16,  93,   9],\n",
       "        [ 13,  51,  70,  91,  22]],\n",
       "\n",
       "       [[ 24,  91,  87,  17,  88],\n",
       "        [ 72,  79,  32,  15,  70],\n",
       "        [ 46,  18,  81,  89,  42],\n",
       "        [ 36,  38,   9,  19,  68],\n",
       "        [ 54,  60,  78,  44,  45]],\n",
       "\n",
       "       [[ 12,  51,  60,  19,  40],\n",
       "        [  8,   5,  25,  93,  11],\n",
       "        [  6,  75,  84,  14,   1],\n",
       "        [ 63,  32,  82,  94,  89],\n",
       "        [ 16,  38,  70,  68,   9]],\n",
       "\n",
       "       [[ 50,  71,  33,   7,  80],\n",
       "        [ 12,  92,  60,  47,  18],\n",
       "        [ 63,  89,   3,  21,  84],\n",
       "        [ 68,  54,  35,  20,  34],\n",
       "        [ 51,  45,  66,   2,  38]]])"
      ]
     },
     "execution_count": 84,
     "metadata": {},
     "output_type": "execute_result"
    }
   ],
   "source": [
    "\n",
    "import numpy as np\n",
    "\n",
    "def get_unique_loto(num):\n",
    "    random_values = np.arange(1, 101)\n",
    "    return_list = []\n",
    "    for i in range(num):\n",
    "        return_list.append(np.random.choice(random_values, ( 5, 5), replace=False))\n",
    "    return_list = np.array(return_list)\n",
    "    return return_list\n",
    "\n",
    "get_unique_loto(10)"
   ]
  },
  {
   "cell_type": "code",
   "execution_count": 10,
   "metadata": {},
   "outputs": [
    {
     "name": "stdout",
     "output_type": "stream",
     "text": [
      "sdf, asda\n",
      "sdf, asda\n"
     ]
    }
   ],
   "source": [
    "a = ['sdf', 'asda']\n",
    "print(*a, sep=', ')\n",
    "b = ', '.join(a)\n",
    "print(b)"
   ]
  }
 ],
 "metadata": {
  "kernelspec": {
   "display_name": "Python 3",
   "language": "python",
   "name": "python3"
  },
  "language_info": {
   "codemirror_mode": {
    "name": "ipython",
    "version": 3
   },
   "file_extension": ".py",
   "mimetype": "text/x-python",
   "name": "python",
   "nbconvert_exporter": "python",
   "pygments_lexer": "ipython3",
   "version": "3.9.13"
  }
 },
 "nbformat": 4,
 "nbformat_minor": 2
}
