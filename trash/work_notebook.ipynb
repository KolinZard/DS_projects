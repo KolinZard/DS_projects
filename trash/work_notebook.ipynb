{
 "cells": [
  {
   "cell_type": "code",
   "execution_count": 11,
   "metadata": {},
   "outputs": [
    {
     "name": "stdout",
     "output_type": "stream",
     "text": [
      "['2000', '2001', '2002', '2003']\n"
     ]
    }
   ],
   "source": [
    "from collections import OrderedDict\n",
    "temps = [('2000', -4.4), ('2001', -2.5), ('2002', -4.4), ('2003', -9.5)]\n",
    "def check(temps):\n",
    "    ordered_dict_temps = OrderedDict(temps)\n",
    "    print(sorted(ordered_dict_temps, key = lambda x: x[1], reverse = True))\n",
    "check(temps)"
   ]
  },
  {
   "cell_type": "code",
   "execution_count": 32,
   "metadata": {},
   "outputs": [
    {
     "name": "stdout",
     "output_type": "stream",
     "text": [
      "deque(['('])\n",
      "deque(['(', '('])\n",
      "deque(['('])\n",
      "deque(['(', '('])\n",
      "deque(['('])\n",
      "deque([])\n",
      "True\n"
     ]
    }
   ],
   "source": [
    "# Напишите функцию brackets(line), которая определяет, является ли последовательность из круглых скобок line правильной.\n",
    "\n",
    "# Примечание 1. Какая последовательность скобок правильная?\n",
    "\n",
    "# Правильной скобочной последовательностью назовём такую последовательность скобок, \n",
    "# в которой для каждой открывающей скобки есть последующая соответствующая ей закрывающая скобка. \n",
    "# Соответственно, остальные скобочные последовательности назовём неправильными. Пустую строку будем считать правильной последовательностью.\n",
    "\n",
    "# Примечание 2.Для решения этой задачи потребуется использовать стек.\n",
    "\n",
    "# Посимвольно переберите строку. Если встретилась открывающаяся скобка, положите её в стек. Если встретилась закрывающаяся скобка, извлеките скобку из стека.\n",
    "\n",
    "# Если стек пустой, то есть извлечь скобку нельзя, последовательность неправильная.\n",
    "# Если строка закончилась и стек стал пустым, последовательность правильная.\n",
    "# Если в стеке остались скобки, последовательность неправильная.\n",
    "# Пример\n",
    "\n",
    "\n",
    "# print(brackets(\"(()())\"))\n",
    "# # True\n",
    "# print(brackets(\"\"))\n",
    "# # True\n",
    "# print(brackets(\"(()()))\"))\n",
    "# # False\n",
    "from collections import deque\n",
    "def brackets(line):\n",
    "    deque_count = deque()\n",
    "    for symbol in line:\n",
    "        if symbol == '(':\n",
    "            deque_count.append(symbol)\n",
    "            print(deque_count)\n",
    "        elif symbol == ')':\n",
    "            if not deque_count:\n",
    "                return False\n",
    "            deque_count.pop()\n",
    "            print(deque_count)\n",
    "    if len(deque_count) == 0:\n",
    "        return True\n",
    "    else:\n",
    "        return False\n",
    "    \n",
    "\n",
    "print(brackets(\"(()())\"))"
   ]
  },
  {
   "cell_type": "code",
   "execution_count": 13,
   "metadata": {},
   "outputs": [
    {
     "name": "stdout",
     "output_type": "stream",
     "text": [
      "{'WokAndRice': 4.9, 'WokToWork': 4.9, 'General Foods': 4.8, 'New Age': 4.6, 'Belissimo': 4.5, 'CakeAndCoffee': 4.2, 'CakeOClock': 4.2, 'CakeTime': 4.1, 'Nice Cakes': 3.9, 'Old Gold': 3.3, 'Old Wine Cellar': 3.3, 'Old York': 3.3}\n"
     ]
    }
   ],
   "source": [
    "# Дан список кортежей ratings с рейтингами кафе. Кортеж состоит из названия и рейтинга кафе.\n",
    "\n",
    "# Необходимо отсортировать кортеж по убыванию рейтинга. Если рейтинги совпадают, то отсортировать кафе дополнительно по названию в алфавитном порядке.\n",
    "\n",
    "# Получите словарь cafes с упорядоченными ключами из отсортированного списка, где ключи — названия кафе, а значения — их рейтинг.\n",
    "\n",
    "ratings = [('Old York', 3.3), ('New Age', 4.6), ('Old Gold', 3.3), ('General Foods', 4.8),\n",
    "           ('Belissimo', 4.5), ('CakeAndCoffee', 4.2), ('CakeOClock', 4.2), ('CakeTime', 4.1),\n",
    "           ('WokToWork', 4.9), ('WokAndRice', 4.9), ('Old Wine Cellar', 3.3), ('Nice Cakes', 3.9)]\n",
    "    \n",
    "cafes = dict(sorted(ratings, key=lambda x: (-x[1], x[0])))\n",
    "print(cafes)"
   ]
  },
  {
   "cell_type": "code",
   "execution_count": 18,
   "metadata": {},
   "outputs": [
    {
     "name": "stdout",
     "output_type": "stream",
     "text": [
      "OrderedDict([('WokAndRice', 4.9), ('WokToWork', 4.9), ('General Foods', 4.8), ('New Age', 4.6), ('Belissimo', 4.5), ('CakeAndCoffee', 4.2), ('CakeOClock', 4.2), ('CakeTime', 4.1), ('Nice Cakes', 3.9), ('Old Gold', 3.3), ('Old Wine Cellar', 3.3), ('Old York', 3.3)])\n"
     ]
    }
   ],
   "source": [
    "from collections import OrderedDict\n",
    "ratings = [('Old York', 3.3), ('New Age', 4.6), ('Old Gold', 3.3), ('General Foods', 4.8),\n",
    "           ('Belissimo', 4.5), ('CakeAndCoffee', 4.2), ('CakeOClock', 4.2), ('CakeTime', 4.1),\n",
    "           ('WokToWork', 4.9), ('WokAndRice', 4.9), ('Old Wine Cellar', 3.3), ('Nice Cakes', 3.9)]\n",
    "cafes = OrderedDict(sorted(ratings, key=lambda x: (-x[1], x[0])))  \n",
    "\n",
    "print(cafes)"
   ]
  },
  {
   "cell_type": "code",
   "execution_count": 23,
   "metadata": {},
   "outputs": [
    {
     "name": "stdout",
     "output_type": "stream",
     "text": [
      "defaultdict(<class 'collections.deque'>, {'office': deque([36871, 40690, 33850]), 'voltage': deque([41667, 35364])})\n"
     ]
    }
   ],
   "source": [
    "# Напишите функцию task_manager(tasks), которая принимает список задач tasks для нескольких серверов. \n",
    "# Каждый элемент списка состоит из кортежа (<номер задачи>, <название сервера>, <высокий приоритет задачи>).\n",
    "\n",
    "# Функция должна создавать словарь и заполнять его задачами по следующему принципу: название сервера — ключ, \n",
    "# по которому хранится очередь задач для конкретного сервера.\n",
    "\n",
    "# Если поступает задача без высокого приоритета (последний элемент кортежа — False), \n",
    "# добавить номер задачи в конец очереди. Если приоритет высокий, добавить номер в начало.\n",
    "\n",
    "# Для словаря используйте defaultdict, для очереди — deque.\n",
    "\n",
    "# Функция возвращает полученный словарь с задачами.\n",
    "\n",
    "# Пример\n",
    "\n",
    "\n",
    "tasks = [(36871, 'office', False),\n",
    "(40690, 'office', False),\n",
    "(35364, 'voltage', False),\n",
    "(41667, 'voltage', True),\n",
    "(33850, 'office', False)]\n",
    "\n",
    "# print(task_manager(tasks))\n",
    "# defaultdict(, {'voltage': deque([41667, 35364]),\n",
    "# 'office': deque([36871, 40690, 33850])})\n",
    "\n",
    "from collections import defaultdict\n",
    "from collections import deque\n",
    "\n",
    "def task_manager(tasks):\n",
    "    common_dict = defaultdict(deque)\n",
    "    for number, server_name, priorety in tasks:\n",
    "        if priorety:\n",
    "            common_dict[server_name].appendleft(number)\n",
    "        else:\n",
    "            common_dict[server_name].append(number)\n",
    "    return common_dict\n"
   ]
  }
 ],
 "metadata": {
  "kernelspec": {
   "display_name": "Python 3",
   "language": "python",
   "name": "python3"
  },
  "language_info": {
   "codemirror_mode": {
    "name": "ipython",
    "version": 3
   },
   "file_extension": ".py",
   "mimetype": "text/x-python",
   "name": "python",
   "nbconvert_exporter": "python",
   "pygments_lexer": "ipython3",
   "version": "3.9.13"
  }
 },
 "nbformat": 4,
 "nbformat_minor": 2
}
