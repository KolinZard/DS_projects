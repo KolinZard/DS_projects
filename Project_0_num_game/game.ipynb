{
 "cells": [
  {
   "cell_type": "markdown",
   "metadata": {},
   "source": [
    "# Игра: Угадай число"
   ]
  },
  {
   "cell_type": "markdown",
   "metadata": {},
   "source": [
    "За сколько попыток программа отгадает одно рандомное число?"
   ]
  },
  {
   "cell_type": "code",
   "execution_count": 79,
   "metadata": {},
   "outputs": [
    {
     "name": "stdout",
     "output_type": "stream",
     "text": [
      "Программа отгадала рандомное число за 4 попыток\n"
     ]
    }
   ],
   "source": [
    "from Game import num_rand_game\n",
    "print(f'Программа отгадала рандомное число за {num_rand_game()} попыток')"
   ]
  },
  {
   "cell_type": "markdown",
   "metadata": {},
   "source": [
    "За сколько в среднем попыток алгоритм угадает 1000 рандомных чисел?"
   ]
  },
  {
   "cell_type": "code",
   "execution_count": 81,
   "metadata": {},
   "outputs": [
    {
     "name": "stdout",
     "output_type": "stream",
     "text": [
      "Ваш алгоритм угадывает число в среднем за: 8 попыток\n"
     ]
    }
   ],
   "source": [
    "from Game import num_rand_game\n",
    "from Game import score_game\n",
    "\n",
    "score_game(num_rand_game)"
   ]
  }
 ],
 "metadata": {
  "kernelspec": {
   "display_name": "Python 3",
   "language": "python",
   "name": "python3"
  },
  "language_info": {
   "codemirror_mode": {
    "name": "ipython",
    "version": 3
   },
   "file_extension": ".py",
   "mimetype": "text/x-python",
   "name": "python",
   "nbconvert_exporter": "python",
   "pygments_lexer": "ipython3",
   "version": "3.9.13"
  }
 },
 "nbformat": 4,
 "nbformat_minor": 2
}
